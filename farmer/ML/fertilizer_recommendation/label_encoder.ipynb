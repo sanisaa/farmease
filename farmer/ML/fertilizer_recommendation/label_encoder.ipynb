{
 "cells": [
  {
   "cell_type": "code",
   "execution_count": 1,
   "id": "0dfa2a58",
   "metadata": {},
   "outputs": [],
   "source": [
    "import pandas as pd\n",
    "from sklearn.preprocessing import LabelEncoder\n",
    "import pickle\n",
    "import sys\n",
    "\n",
    "data = pd.read_csv(\"fertilizer_recommendation.csv\")\n",
    "\n",
    "le_soil = LabelEncoder()\n",
    "data['Soil Type'] = le_soil.fit_transform(data['Soil Type'])\n",
    "le_crop = LabelEncoder()\n",
    "data['Crop Type'] = le_crop.fit_transform(data['Crop Type'])\n",
    "\n",
    "# Save the label encoders\n",
    "label_encoder_pkl_filename = 'label_encoder.pkl'\n",
    "label_encoder_pkl = open(label_encoder_pkl_filename, 'wb')\n",
    "pickle.dump((le_soil, le_crop), label_encoder_pkl)\n",
    "label_encoder_pkl.close()\n"
   ]
  },
  {
   "cell_type": "code",
   "execution_count": null,
   "id": "21dbb1af",
   "metadata": {},
   "outputs": [],
   "source": []
  }
 ],
 "metadata": {
  "kernelspec": {
   "display_name": "Python 3 (ipykernel)",
   "language": "python",
   "name": "python3"
  },
  "language_info": {
   "codemirror_mode": {
    "name": "ipython",
    "version": 3
   },
   "file_extension": ".py",
   "mimetype": "text/x-python",
   "name": "python",
   "nbconvert_exporter": "python",
   "pygments_lexer": "ipython3",
   "version": "3.10.9"
  }
 },
 "nbformat": 4,
 "nbformat_minor": 5
}
