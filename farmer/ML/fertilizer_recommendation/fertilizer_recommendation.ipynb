{
 "cells": [
  {
   "cell_type": "code",
   "execution_count": 1,
   "id": "b762cf33",
   "metadata": {},
   "outputs": [],
   "source": [
    "import pandas as pd"
   ]
  },
  {
   "cell_type": "code",
   "execution_count": 2,
   "id": "af3021f7",
   "metadata": {},
   "outputs": [],
   "source": [
    "data = pd.read_csv(\"fertilizer_recommendation.csv\")"
   ]
  },
  {
   "cell_type": "code",
   "execution_count": 3,
   "id": "9a035b57",
   "metadata": {},
   "outputs": [
    {
     "data": {
      "text/html": [
       "<div>\n",
       "<style scoped>\n",
       "    .dataframe tbody tr th:only-of-type {\n",
       "        vertical-align: middle;\n",
       "    }\n",
       "\n",
       "    .dataframe tbody tr th {\n",
       "        vertical-align: top;\n",
       "    }\n",
       "\n",
       "    .dataframe thead th {\n",
       "        text-align: right;\n",
       "    }\n",
       "</style>\n",
       "<table border=\"1\" class=\"dataframe\">\n",
       "  <thead>\n",
       "    <tr style=\"text-align: right;\">\n",
       "      <th></th>\n",
       "      <th>Temparature</th>\n",
       "      <th>Humidity</th>\n",
       "      <th>Soil Moisture</th>\n",
       "      <th>Soil Type</th>\n",
       "      <th>Crop Type</th>\n",
       "      <th>Nitrogen</th>\n",
       "      <th>Potassium</th>\n",
       "      <th>Phosphorous</th>\n",
       "      <th>Fertilizer Name</th>\n",
       "    </tr>\n",
       "  </thead>\n",
       "  <tbody>\n",
       "    <tr>\n",
       "      <th>0</th>\n",
       "      <td>26</td>\n",
       "      <td>52</td>\n",
       "      <td>38</td>\n",
       "      <td>Sandy</td>\n",
       "      <td>Maize</td>\n",
       "      <td>37</td>\n",
       "      <td>0</td>\n",
       "      <td>0</td>\n",
       "      <td>Urea</td>\n",
       "    </tr>\n",
       "    <tr>\n",
       "      <th>1</th>\n",
       "      <td>29</td>\n",
       "      <td>52</td>\n",
       "      <td>45</td>\n",
       "      <td>Loamy</td>\n",
       "      <td>Sugarcane</td>\n",
       "      <td>12</td>\n",
       "      <td>0</td>\n",
       "      <td>36</td>\n",
       "      <td>DAP</td>\n",
       "    </tr>\n",
       "    <tr>\n",
       "      <th>2</th>\n",
       "      <td>34</td>\n",
       "      <td>65</td>\n",
       "      <td>62</td>\n",
       "      <td>Black</td>\n",
       "      <td>Cotton</td>\n",
       "      <td>7</td>\n",
       "      <td>9</td>\n",
       "      <td>30</td>\n",
       "      <td>14-35-14</td>\n",
       "    </tr>\n",
       "    <tr>\n",
       "      <th>3</th>\n",
       "      <td>32</td>\n",
       "      <td>62</td>\n",
       "      <td>34</td>\n",
       "      <td>Red</td>\n",
       "      <td>Tobacco</td>\n",
       "      <td>22</td>\n",
       "      <td>0</td>\n",
       "      <td>20</td>\n",
       "      <td>28-28</td>\n",
       "    </tr>\n",
       "    <tr>\n",
       "      <th>4</th>\n",
       "      <td>28</td>\n",
       "      <td>54</td>\n",
       "      <td>46</td>\n",
       "      <td>Clayey</td>\n",
       "      <td>Paddy</td>\n",
       "      <td>35</td>\n",
       "      <td>0</td>\n",
       "      <td>0</td>\n",
       "      <td>Urea</td>\n",
       "    </tr>\n",
       "  </tbody>\n",
       "</table>\n",
       "</div>"
      ],
      "text/plain": [
       "   Temparature  Humidity  Soil Moisture Soil Type  Crop Type  Nitrogen  \\\n",
       "0           26        52             38     Sandy      Maize        37   \n",
       "1           29        52             45     Loamy  Sugarcane        12   \n",
       "2           34        65             62     Black     Cotton         7   \n",
       "3           32        62             34       Red    Tobacco        22   \n",
       "4           28        54             46    Clayey      Paddy        35   \n",
       "\n",
       "   Potassium  Phosphorous Fertilizer Name  \n",
       "0          0            0            Urea  \n",
       "1          0           36             DAP  \n",
       "2          9           30        14-35-14  \n",
       "3          0           20           28-28  \n",
       "4          0            0            Urea  "
      ]
     },
     "execution_count": 3,
     "metadata": {},
     "output_type": "execute_result"
    }
   ],
   "source": [
    "data.head()"
   ]
  },
  {
   "cell_type": "code",
   "execution_count": 4,
   "id": "ccc89162",
   "metadata": {},
   "outputs": [
    {
     "name": "stdout",
     "output_type": "stream",
     "text": [
      "<class 'pandas.core.frame.DataFrame'>\n",
      "RangeIndex: 1089 entries, 0 to 1088\n",
      "Data columns (total 9 columns):\n",
      " #   Column           Non-Null Count  Dtype \n",
      "---  ------           --------------  ----- \n",
      " 0   Temparature      1089 non-null   int64 \n",
      " 1   Humidity         1089 non-null   int64 \n",
      " 2   Soil Moisture    1089 non-null   int64 \n",
      " 3   Soil Type        1089 non-null   object\n",
      " 4   Crop Type        1089 non-null   object\n",
      " 5   Nitrogen         1089 non-null   int64 \n",
      " 6   Potassium        1089 non-null   int64 \n",
      " 7   Phosphorous      1089 non-null   int64 \n",
      " 8   Fertilizer Name  1089 non-null   object\n",
      "dtypes: int64(6), object(3)\n",
      "memory usage: 76.7+ KB\n"
     ]
    }
   ],
   "source": [
    "data.info()"
   ]
  },
  {
   "cell_type": "code",
   "execution_count": 5,
   "id": "37c2b4b8",
   "metadata": {},
   "outputs": [
    {
     "data": {
      "text/html": [
       "<div>\n",
       "<style scoped>\n",
       "    .dataframe tbody tr th:only-of-type {\n",
       "        vertical-align: middle;\n",
       "    }\n",
       "\n",
       "    .dataframe tbody tr th {\n",
       "        vertical-align: top;\n",
       "    }\n",
       "\n",
       "    .dataframe thead th {\n",
       "        text-align: right;\n",
       "    }\n",
       "</style>\n",
       "<table border=\"1\" class=\"dataframe\">\n",
       "  <thead>\n",
       "    <tr style=\"text-align: right;\">\n",
       "      <th></th>\n",
       "      <th>Temparature</th>\n",
       "      <th>Humidity</th>\n",
       "      <th>Soil Moisture</th>\n",
       "      <th>Soil Type</th>\n",
       "      <th>Crop Type</th>\n",
       "      <th>Nitrogen</th>\n",
       "      <th>Potassium</th>\n",
       "      <th>Phosphorous</th>\n",
       "      <th>Fertilizer Name</th>\n",
       "    </tr>\n",
       "  </thead>\n",
       "  <tbody>\n",
       "    <tr>\n",
       "      <th>count</th>\n",
       "      <td>1089.000000</td>\n",
       "      <td>1089.000000</td>\n",
       "      <td>1089.000000</td>\n",
       "      <td>1089</td>\n",
       "      <td>1089</td>\n",
       "      <td>1089.000000</td>\n",
       "      <td>1089.000000</td>\n",
       "      <td>1089.000000</td>\n",
       "      <td>1089</td>\n",
       "    </tr>\n",
       "    <tr>\n",
       "      <th>unique</th>\n",
       "      <td>NaN</td>\n",
       "      <td>NaN</td>\n",
       "      <td>NaN</td>\n",
       "      <td>5</td>\n",
       "      <td>11</td>\n",
       "      <td>NaN</td>\n",
       "      <td>NaN</td>\n",
       "      <td>NaN</td>\n",
       "      <td>11</td>\n",
       "    </tr>\n",
       "    <tr>\n",
       "      <th>top</th>\n",
       "      <td>NaN</td>\n",
       "      <td>NaN</td>\n",
       "      <td>NaN</td>\n",
       "      <td>Sandy</td>\n",
       "      <td>Paddy</td>\n",
       "      <td>NaN</td>\n",
       "      <td>NaN</td>\n",
       "      <td>NaN</td>\n",
       "      <td>Urea</td>\n",
       "    </tr>\n",
       "    <tr>\n",
       "      <th>freq</th>\n",
       "      <td>NaN</td>\n",
       "      <td>NaN</td>\n",
       "      <td>NaN</td>\n",
       "      <td>266</td>\n",
       "      <td>145</td>\n",
       "      <td>NaN</td>\n",
       "      <td>NaN</td>\n",
       "      <td>NaN</td>\n",
       "      <td>246</td>\n",
       "    </tr>\n",
       "    <tr>\n",
       "      <th>mean</th>\n",
       "      <td>29.070707</td>\n",
       "      <td>57.237833</td>\n",
       "      <td>44.822773</td>\n",
       "      <td>NaN</td>\n",
       "      <td>NaN</td>\n",
       "      <td>19.825528</td>\n",
       "      <td>3.219467</td>\n",
       "      <td>19.904500</td>\n",
       "      <td>NaN</td>\n",
       "    </tr>\n",
       "    <tr>\n",
       "      <th>std</th>\n",
       "      <td>2.931754</td>\n",
       "      <td>5.057155</td>\n",
       "      <td>8.812841</td>\n",
       "      <td>NaN</td>\n",
       "      <td>NaN</td>\n",
       "      <td>10.304502</td>\n",
       "      <td>6.182470</td>\n",
       "      <td>13.524014</td>\n",
       "      <td>NaN</td>\n",
       "    </tr>\n",
       "    <tr>\n",
       "      <th>min</th>\n",
       "      <td>24.000000</td>\n",
       "      <td>48.000000</td>\n",
       "      <td>25.000000</td>\n",
       "      <td>NaN</td>\n",
       "      <td>NaN</td>\n",
       "      <td>4.000000</td>\n",
       "      <td>0.000000</td>\n",
       "      <td>0.000000</td>\n",
       "      <td>NaN</td>\n",
       "    </tr>\n",
       "    <tr>\n",
       "      <th>25%</th>\n",
       "      <td>27.000000</td>\n",
       "      <td>54.000000</td>\n",
       "      <td>38.000000</td>\n",
       "      <td>NaN</td>\n",
       "      <td>NaN</td>\n",
       "      <td>12.000000</td>\n",
       "      <td>0.000000</td>\n",
       "      <td>10.000000</td>\n",
       "      <td>NaN</td>\n",
       "    </tr>\n",
       "    <tr>\n",
       "      <th>50%</th>\n",
       "      <td>29.000000</td>\n",
       "      <td>58.000000</td>\n",
       "      <td>43.000000</td>\n",
       "      <td>NaN</td>\n",
       "      <td>NaN</td>\n",
       "      <td>16.000000</td>\n",
       "      <td>0.000000</td>\n",
       "      <td>20.000000</td>\n",
       "      <td>NaN</td>\n",
       "    </tr>\n",
       "    <tr>\n",
       "      <th>75%</th>\n",
       "      <td>31.000000</td>\n",
       "      <td>62.000000</td>\n",
       "      <td>51.000000</td>\n",
       "      <td>NaN</td>\n",
       "      <td>NaN</td>\n",
       "      <td>21.000000</td>\n",
       "      <td>7.000000</td>\n",
       "      <td>31.000000</td>\n",
       "      <td>NaN</td>\n",
       "    </tr>\n",
       "    <tr>\n",
       "      <th>max</th>\n",
       "      <td>38.000000</td>\n",
       "      <td>72.000000</td>\n",
       "      <td>67.000000</td>\n",
       "      <td>NaN</td>\n",
       "      <td>NaN</td>\n",
       "      <td>42.000000</td>\n",
       "      <td>20.000000</td>\n",
       "      <td>42.000000</td>\n",
       "      <td>NaN</td>\n",
       "    </tr>\n",
       "  </tbody>\n",
       "</table>\n",
       "</div>"
      ],
      "text/plain": [
       "        Temparature     Humidity  Soil Moisture Soil Type Crop Type  \\\n",
       "count   1089.000000  1089.000000    1089.000000      1089      1089   \n",
       "unique          NaN          NaN            NaN         5        11   \n",
       "top             NaN          NaN            NaN     Sandy     Paddy   \n",
       "freq            NaN          NaN            NaN       266       145   \n",
       "mean      29.070707    57.237833      44.822773       NaN       NaN   \n",
       "std        2.931754     5.057155       8.812841       NaN       NaN   \n",
       "min       24.000000    48.000000      25.000000       NaN       NaN   \n",
       "25%       27.000000    54.000000      38.000000       NaN       NaN   \n",
       "50%       29.000000    58.000000      43.000000       NaN       NaN   \n",
       "75%       31.000000    62.000000      51.000000       NaN       NaN   \n",
       "max       38.000000    72.000000      67.000000       NaN       NaN   \n",
       "\n",
       "           Nitrogen    Potassium  Phosphorous Fertilizer Name  \n",
       "count   1089.000000  1089.000000  1089.000000            1089  \n",
       "unique          NaN          NaN          NaN              11  \n",
       "top             NaN          NaN          NaN            Urea  \n",
       "freq            NaN          NaN          NaN             246  \n",
       "mean      19.825528     3.219467    19.904500             NaN  \n",
       "std       10.304502     6.182470    13.524014             NaN  \n",
       "min        4.000000     0.000000     0.000000             NaN  \n",
       "25%       12.000000     0.000000    10.000000             NaN  \n",
       "50%       16.000000     0.000000    20.000000             NaN  \n",
       "75%       21.000000     7.000000    31.000000             NaN  \n",
       "max       42.000000    20.000000    42.000000             NaN  "
      ]
     },
     "execution_count": 5,
     "metadata": {},
     "output_type": "execute_result"
    }
   ],
   "source": [
    "data.describe(include='all')"
   ]
  },
  {
   "cell_type": "code",
   "execution_count": 6,
   "id": "e9c7e5b5",
   "metadata": {},
   "outputs": [
    {
     "data": {
      "text/plain": [
       "Fertilizer Name\n",
       "Urea        246\n",
       "14-35-14    241\n",
       "DAP         202\n",
       "28-28       119\n",
       "20-20-20     80\n",
       "28-28-28     69\n",
       "17-17-17     60\n",
       "20-20        56\n",
       "10-26-26     14\n",
       "14            1\n",
       "28            1\n",
       "Name: count, dtype: int64"
      ]
     },
     "execution_count": 6,
     "metadata": {},
     "output_type": "execute_result"
    }
   ],
   "source": [
    "data['Fertilizer Name'].value_counts()"
   ]
  },
  {
   "cell_type": "code",
   "execution_count": 7,
   "id": "11f1b51c",
   "metadata": {},
   "outputs": [],
   "source": [
    "from sklearn.preprocessing import LabelEncoder\n",
    "le_soil = LabelEncoder()\n",
    "data['Soil Type'] = le_soil.fit_transform(data['Soil Type'])\n",
    "le_crop = LabelEncoder()\n",
    "data['Crop Type'] = le_crop.fit_transform(data['Crop Type'])"
   ]
  },
  {
   "cell_type": "code",
   "execution_count": 8,
   "id": "fdf2bca2",
   "metadata": {},
   "outputs": [],
   "source": [
    "X = data.iloc[:, :8]\n",
    "y = data.iloc[:, -1]"
   ]
  },
  {
   "cell_type": "code",
   "execution_count": 9,
   "id": "010cdc95",
   "metadata": {},
   "outputs": [],
   "source": [
    "# Initialzing empty lists to append all model's name and corresponding name\n",
    "acc = []\n",
    "model = []"
   ]
  },
  {
   "cell_type": "code",
   "execution_count": 10,
   "id": "c1eb17d1",
   "metadata": {},
   "outputs": [
    {
     "name": "stdout",
     "output_type": "stream",
     "text": [
      "Rows in train set:871\n",
      "Rows in test set: 218\n",
      "\n"
     ]
    }
   ],
   "source": [
    "from sklearn.model_selection import train_test_split\n",
    "train_set, test_set = train_test_split(data, test_size=0.2, random_state=42)\n",
    "print(f\"Rows in train set:{len(train_set)}\\nRows in test set: {len(test_set)}\\n\")"
   ]
  },
  {
   "cell_type": "code",
   "execution_count": 11,
   "id": "299feae2",
   "metadata": {},
   "outputs": [
    {
     "name": "stdout",
     "output_type": "stream",
     "text": [
      "      Temparature  Humidity  Soil Moisture  Soil Type  Crop Type  Nitrogen  \\\n",
      "753            30        60             38          1          4        13   \n",
      "525            26        52             49          1          1        38   \n",
      "956            31        62             55          0          8        37   \n",
      "215            25        50             36          1          6         9   \n",
      "256            27        54             44          4          8         9   \n",
      "...           ...       ...            ...        ...        ...       ...   \n",
      "330            28        54             35          0          4        14   \n",
      "466            25        50             35          4          6        19   \n",
      "121            30        62             53          0          1        14   \n",
      "1044           31        62             55          0          8        37   \n",
      "860            31        62             55          0          8        37   \n",
      "\n",
      "      Potassium  Phosphorous  \n",
      "753           0           36  \n",
      "525           0            0  \n",
      "956           0            0  \n",
      "215           0           42  \n",
      "256          10           12  \n",
      "...         ...          ...  \n",
      "330           0           36  \n",
      "466           0           18  \n",
      "121          12           14  \n",
      "1044          0            0  \n",
      "860           0            0  \n",
      "\n",
      "[871 rows x 8 columns]\n",
      "      Temparature  Humidity  Soil Moisture  Soil Type  Crop Type  Nitrogen  \\\n",
      "355            34        65             48          4         10        12   \n",
      "56             34        65             54          2         10        38   \n",
      "478            29        58             36          4          2        16   \n",
      "566            27        54             33          3          6        12   \n",
      "1066           25        50             41          4         10        15   \n",
      "...           ...       ...            ...        ...        ...       ...   \n",
      "677            26        52             49          1          1        38   \n",
      "655            29        58             37          4          2        16   \n",
      "940            31        62             55          0          8        37   \n",
      "1060           31        62             55          0          8        37   \n",
      "988            31        62             55          0          8        37   \n",
      "\n",
      "      Potassium  Phosphorous  \n",
      "355           0           36  \n",
      "56            0            0  \n",
      "478           0           14  \n",
      "566           0           40  \n",
      "1066          0           30  \n",
      "...         ...          ...  \n",
      "677           0            0  \n",
      "655           0           14  \n",
      "940           0            0  \n",
      "1060          0            0  \n",
      "988           0            0  \n",
      "\n",
      "[218 rows x 8 columns]\n",
      "753          DAP\n",
      "525         Urea\n",
      "956         Urea\n",
      "215          DAP\n",
      "256        28-28\n",
      "          ...   \n",
      "330          DAP\n",
      "466        28-28\n",
      "121     14-35-14\n",
      "1044        Urea\n",
      "860         Urea\n",
      "Name: Fertilizer Name, Length: 871, dtype: object\n",
      "753          DAP\n",
      "525         Urea\n",
      "956         Urea\n",
      "215          DAP\n",
      "256        28-28\n",
      "          ...   \n",
      "330          DAP\n",
      "466        28-28\n",
      "121     14-35-14\n",
      "1044        Urea\n",
      "860         Urea\n",
      "Name: Fertilizer Name, Length: 871, dtype: object\n"
     ]
    }
   ],
   "source": [
    "Xtrain, Xtest, Ytrain, Ytest = train_test_split(X,y,test_size = 0.2,random_state =42)\n",
    "print(Xtrain)\n",
    "print(Xtest)\n",
    "print(Ytrain)\n",
    "print(Ytrain)"
   ]
  },
  {
   "cell_type": "code",
   "execution_count": 12,
   "id": "9b1ad117",
   "metadata": {},
   "outputs": [],
   "source": [
    "# Decision Tree"
   ]
  },
  {
   "cell_type": "code",
   "execution_count": 13,
   "id": "51418dca",
   "metadata": {},
   "outputs": [
    {
     "data": {
      "text/html": [
       "<style>#sk-container-id-1 {color: black;background-color: white;}#sk-container-id-1 pre{padding: 0;}#sk-container-id-1 div.sk-toggleable {background-color: white;}#sk-container-id-1 label.sk-toggleable__label {cursor: pointer;display: block;width: 100%;margin-bottom: 0;padding: 0.3em;box-sizing: border-box;text-align: center;}#sk-container-id-1 label.sk-toggleable__label-arrow:before {content: \"▸\";float: left;margin-right: 0.25em;color: #696969;}#sk-container-id-1 label.sk-toggleable__label-arrow:hover:before {color: black;}#sk-container-id-1 div.sk-estimator:hover label.sk-toggleable__label-arrow:before {color: black;}#sk-container-id-1 div.sk-toggleable__content {max-height: 0;max-width: 0;overflow: hidden;text-align: left;background-color: #f0f8ff;}#sk-container-id-1 div.sk-toggleable__content pre {margin: 0.2em;color: black;border-radius: 0.25em;background-color: #f0f8ff;}#sk-container-id-1 input.sk-toggleable__control:checked~div.sk-toggleable__content {max-height: 200px;max-width: 100%;overflow: auto;}#sk-container-id-1 input.sk-toggleable__control:checked~label.sk-toggleable__label-arrow:before {content: \"▾\";}#sk-container-id-1 div.sk-estimator input.sk-toggleable__control:checked~label.sk-toggleable__label {background-color: #d4ebff;}#sk-container-id-1 div.sk-label input.sk-toggleable__control:checked~label.sk-toggleable__label {background-color: #d4ebff;}#sk-container-id-1 input.sk-hidden--visually {border: 0;clip: rect(1px 1px 1px 1px);clip: rect(1px, 1px, 1px, 1px);height: 1px;margin: -1px;overflow: hidden;padding: 0;position: absolute;width: 1px;}#sk-container-id-1 div.sk-estimator {font-family: monospace;background-color: #f0f8ff;border: 1px dotted black;border-radius: 0.25em;box-sizing: border-box;margin-bottom: 0.5em;}#sk-container-id-1 div.sk-estimator:hover {background-color: #d4ebff;}#sk-container-id-1 div.sk-parallel-item::after {content: \"\";width: 100%;border-bottom: 1px solid gray;flex-grow: 1;}#sk-container-id-1 div.sk-label:hover label.sk-toggleable__label {background-color: #d4ebff;}#sk-container-id-1 div.sk-serial::before {content: \"\";position: absolute;border-left: 1px solid gray;box-sizing: border-box;top: 0;bottom: 0;left: 50%;z-index: 0;}#sk-container-id-1 div.sk-serial {display: flex;flex-direction: column;align-items: center;background-color: white;padding-right: 0.2em;padding-left: 0.2em;position: relative;}#sk-container-id-1 div.sk-item {position: relative;z-index: 1;}#sk-container-id-1 div.sk-parallel {display: flex;align-items: stretch;justify-content: center;background-color: white;position: relative;}#sk-container-id-1 div.sk-item::before, #sk-container-id-1 div.sk-parallel-item::before {content: \"\";position: absolute;border-left: 1px solid gray;box-sizing: border-box;top: 0;bottom: 0;left: 50%;z-index: -1;}#sk-container-id-1 div.sk-parallel-item {display: flex;flex-direction: column;z-index: 1;position: relative;background-color: white;}#sk-container-id-1 div.sk-parallel-item:first-child::after {align-self: flex-end;width: 50%;}#sk-container-id-1 div.sk-parallel-item:last-child::after {align-self: flex-start;width: 50%;}#sk-container-id-1 div.sk-parallel-item:only-child::after {width: 0;}#sk-container-id-1 div.sk-dashed-wrapped {border: 1px dashed gray;margin: 0 0.4em 0.5em 0.4em;box-sizing: border-box;padding-bottom: 0.4em;background-color: white;}#sk-container-id-1 div.sk-label label {font-family: monospace;font-weight: bold;display: inline-block;line-height: 1.2em;}#sk-container-id-1 div.sk-label-container {text-align: center;}#sk-container-id-1 div.sk-container {/* jupyter's `normalize.less` sets `[hidden] { display: none; }` but bootstrap.min.css set `[hidden] { display: none !important; }` so we also need the `!important` here to be able to override the default hidden behavior on the sphinx rendered scikit-learn.org. See: https://github.com/scikit-learn/scikit-learn/issues/21755 */display: inline-block !important;position: relative;}#sk-container-id-1 div.sk-text-repr-fallback {display: none;}</style><div id=\"sk-container-id-1\" class=\"sk-top-container\"><div class=\"sk-text-repr-fallback\"><pre>DecisionTreeClassifier(criterion=&#x27;entropy&#x27;, max_depth=4, random_state=42)</pre><b>In a Jupyter environment, please rerun this cell to show the HTML representation or trust the notebook. <br />On GitHub, the HTML representation is unable to render, please try loading this page with nbviewer.org.</b></div><div class=\"sk-container\" hidden><div class=\"sk-item\"><div class=\"sk-estimator sk-toggleable\"><input class=\"sk-toggleable__control sk-hidden--visually\" id=\"sk-estimator-id-1\" type=\"checkbox\" checked><label for=\"sk-estimator-id-1\" class=\"sk-toggleable__label sk-toggleable__label-arrow\">DecisionTreeClassifier</label><div class=\"sk-toggleable__content\"><pre>DecisionTreeClassifier(criterion=&#x27;entropy&#x27;, max_depth=4, random_state=42)</pre></div></div></div></div></div>"
      ],
      "text/plain": [
       "DecisionTreeClassifier(criterion='entropy', max_depth=4, random_state=42)"
      ]
     },
     "execution_count": 13,
     "metadata": {},
     "output_type": "execute_result"
    }
   ],
   "source": [
    "from sklearn.tree import DecisionTreeClassifier\n",
    "DecisionTree = DecisionTreeClassifier(criterion=\"entropy\",random_state=42,max_depth=4)\n",
    "DecisionTree.fit(Xtrain,Ytrain)"
   ]
  },
  {
   "cell_type": "code",
   "execution_count": 14,
   "id": "b2f75f78",
   "metadata": {},
   "outputs": [
    {
     "name": "stdout",
     "output_type": "stream",
     "text": [
      "DecisionTrees's Accuracy is:  87.61467889908256\n",
      "              precision    recall  f1-score   support\n",
      "\n",
      "    10-26-26       0.00      0.00      0.00         5\n",
      "    14-35-14       1.00      0.90      0.95        48\n",
      "    17-17-17       0.00      0.00      0.00        11\n",
      "       20-20       0.27      0.78      0.40         9\n",
      "    20-20-20       0.88      1.00      0.93        14\n",
      "          28       0.00      0.00      0.00         1\n",
      "       28-28       0.71      0.86      0.77        14\n",
      "    28-28-28       0.94      1.00      0.97        17\n",
      "         DAP       1.00      0.98      0.99        45\n",
      "        Urea       1.00      1.00      1.00        54\n",
      "\n",
      "    accuracy                           0.88       218\n",
      "   macro avg       0.58      0.65      0.60       218\n",
      "weighted avg       0.86      0.88      0.86       218\n",
      "\n"
     ]
    },
    {
     "name": "stderr",
     "output_type": "stream",
     "text": [
      "C:\\Users\\ASUS\\AppData\\Local\\Packages\\PythonSoftwareFoundation.Python.3.11_qbz5n2kfra8p0\\LocalCache\\local-packages\\Python311\\site-packages\\sklearn\\metrics\\_classification.py:1344: UndefinedMetricWarning: Precision and F-score are ill-defined and being set to 0.0 in labels with no predicted samples. Use `zero_division` parameter to control this behavior.\n",
      "  _warn_prf(average, modifier, msg_start, len(result))\n",
      "C:\\Users\\ASUS\\AppData\\Local\\Packages\\PythonSoftwareFoundation.Python.3.11_qbz5n2kfra8p0\\LocalCache\\local-packages\\Python311\\site-packages\\sklearn\\metrics\\_classification.py:1344: UndefinedMetricWarning: Precision and F-score are ill-defined and being set to 0.0 in labels with no predicted samples. Use `zero_division` parameter to control this behavior.\n",
      "  _warn_prf(average, modifier, msg_start, len(result))\n",
      "C:\\Users\\ASUS\\AppData\\Local\\Packages\\PythonSoftwareFoundation.Python.3.11_qbz5n2kfra8p0\\LocalCache\\local-packages\\Python311\\site-packages\\sklearn\\metrics\\_classification.py:1344: UndefinedMetricWarning: Precision and F-score are ill-defined and being set to 0.0 in labels with no predicted samples. Use `zero_division` parameter to control this behavior.\n",
      "  _warn_prf(average, modifier, msg_start, len(result))\n"
     ]
    }
   ],
   "source": [
    "from sklearn.metrics import classification_report\n",
    "from sklearn import metrics\n",
    "predicted_values = DecisionTree.predict(Xtest)\n",
    "x = metrics.accuracy_score(Ytest, predicted_values)\n",
    "acc.append(x)\n",
    "model.append('Decision Tree')\n",
    "print(\"DecisionTrees's Accuracy is: \", x*100)\n",
    "\n",
    "print(classification_report(Ytest,predicted_values))"
   ]
  },
  {
   "cell_type": "code",
   "execution_count": 15,
   "id": "8cef153e",
   "metadata": {},
   "outputs": [],
   "source": [
    "# Random Forest"
   ]
  },
  {
   "cell_type": "code",
   "execution_count": 16,
   "id": "836da894",
   "metadata": {},
   "outputs": [
    {
     "name": "stdout",
     "output_type": "stream",
     "text": [
      "RF's Accuracy is:  0.9036697247706422\n",
      "              precision    recall  f1-score   support\n",
      "\n",
      "    10-26-26       0.50      0.20      0.29         5\n",
      "    14-35-14       0.82      0.98      0.90        48\n",
      "    17-17-17       0.64      0.64      0.64        11\n",
      "       20-20       1.00      0.33      0.50         9\n",
      "    20-20-20       1.00      0.93      0.96        14\n",
      "          28       0.00      0.00      0.00         1\n",
      "       28-28       0.87      0.93      0.90        14\n",
      "    28-28-28       0.94      1.00      0.97        17\n",
      "         DAP       0.93      0.93      0.93        45\n",
      "        Urea       1.00      1.00      1.00        54\n",
      "\n",
      "    accuracy                           0.90       218\n",
      "   macro avg       0.77      0.69      0.71       218\n",
      "weighted avg       0.90      0.90      0.89       218\n",
      "\n"
     ]
    },
    {
     "name": "stderr",
     "output_type": "stream",
     "text": [
      "C:\\Users\\ASUS\\AppData\\Local\\Packages\\PythonSoftwareFoundation.Python.3.11_qbz5n2kfra8p0\\LocalCache\\local-packages\\Python311\\site-packages\\sklearn\\metrics\\_classification.py:1344: UndefinedMetricWarning: Precision and F-score are ill-defined and being set to 0.0 in labels with no predicted samples. Use `zero_division` parameter to control this behavior.\n",
      "  _warn_prf(average, modifier, msg_start, len(result))\n",
      "C:\\Users\\ASUS\\AppData\\Local\\Packages\\PythonSoftwareFoundation.Python.3.11_qbz5n2kfra8p0\\LocalCache\\local-packages\\Python311\\site-packages\\sklearn\\metrics\\_classification.py:1344: UndefinedMetricWarning: Precision and F-score are ill-defined and being set to 0.0 in labels with no predicted samples. Use `zero_division` parameter to control this behavior.\n",
      "  _warn_prf(average, modifier, msg_start, len(result))\n",
      "C:\\Users\\ASUS\\AppData\\Local\\Packages\\PythonSoftwareFoundation.Python.3.11_qbz5n2kfra8p0\\LocalCache\\local-packages\\Python311\\site-packages\\sklearn\\metrics\\_classification.py:1344: UndefinedMetricWarning: Precision and F-score are ill-defined and being set to 0.0 in labels with no predicted samples. Use `zero_division` parameter to control this behavior.\n",
      "  _warn_prf(average, modifier, msg_start, len(result))\n"
     ]
    }
   ],
   "source": [
    "from sklearn.ensemble import RandomForestClassifier\n",
    "\n",
    "RF = RandomForestClassifier(n_estimators=5, random_state=42,criterion=\"entropy\")\n",
    "RF.fit(Xtrain,Ytrain)\n",
    "\n",
    "predicted_values = RF.predict(Xtest)\n",
    "\n",
    "x = metrics.accuracy_score(Ytest, predicted_values)\n",
    "acc.append(x)\n",
    "model.append('RF')\n",
    "print(\"RF's Accuracy is: \", x)\n",
    "\n",
    "print(classification_report(Ytest,predicted_values))"
   ]
  },
  {
   "cell_type": "code",
   "execution_count": 17,
   "id": "f971cbcb",
   "metadata": {},
   "outputs": [],
   "source": [
    "import pickle\n",
    "# Dump the trained random forest with Pickle\n",
    "RF_pkl_filename = 'fertilizerrecommendation.pkl'\n",
    "# Open the file to save as pkl file\n",
    "RF_Model_pkl = open(RF_pkl_filename, 'wb')\n",
    "pickle.dump(RF, RF_Model_pkl)\n",
    "# Close the pickle instances\n",
    "RF_Model_pkl.close()"
   ]
  },
  {
   "cell_type": "code",
   "execution_count": null,
   "id": "28ded336",
   "metadata": {},
   "outputs": [],
   "source": []
  }
 ],
 "metadata": {
  "kernelspec": {
   "display_name": "Python 3 (ipykernel)",
   "language": "python",
   "name": "python3"
  },
  "language_info": {
   "codemirror_mode": {
    "name": "ipython",
    "version": 3
   },
   "file_extension": ".py",
   "mimetype": "text/x-python",
   "name": "python",
   "nbconvert_exporter": "python",
   "pygments_lexer": "ipython3",
   "version": "3.11.4"
  }
 },
 "nbformat": 4,
 "nbformat_minor": 5
}
